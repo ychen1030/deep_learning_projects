{
 "cells": [
  {
   "cell_type": "markdown",
   "metadata": {
    "colab_type": "text",
    "id": "tI5M9iQLZMSh"
   },
   "source": [
    "# Introduction"
   ]
  },
  {
   "cell_type": "markdown",
   "metadata": {
    "colab_type": "text",
    "id": "2nmvQ62JZMSo"
   },
   "source": [
    "<center><h3>**Welcome to the Language modeling Notebook.**</h3></center>\n",
    "\n",
    "In this project, you are going to train a neural network to **generate news headlines**.\n",
    "To reduce computational needs, we have reduced it to headlines about technology, and a handful of Tech giants.\n",
    "In this project you will:\n",
    "- Learn to preprocess raw text so it can be fed into an LSTM.\n",
    "- Make use of the LSTM library of Tensorflow, to train a Language model to generate headlines\n",
    "- Use your network to generate headlines, and judge which headlines are likely or not\n",
    "\n",
    "\n"
   ]
  },
  {
   "cell_type": "markdown",
   "metadata": {
    "colab_type": "text",
    "id": "x4XR9foOZMSs"
   },
   "source": [
    "**What is a language model?**\n",
    "\n",
    "Language modeling is the task of assigning a probability to sentences in a language. Besides assigning a probability to each sequence of words, the language models also assigns a probability for the likelihood of a given word (or a sequence of words) to follow a sequence of words.\n",
    "— Page 105, __[Neural Network Methods in Natural Language Processing](https://www.amazon.com/Language-Processing-Synthesis-Lectures-Technologies/dp/1627052984/)__, 2017.\n",
    "\n",
    "In terms of neural network, we are training a neural network to produce probabilities (classification) over a fixed vocabulary of words.\n",
    "Concretely, we are training a neural network to produce:\n",
    "$$ P ( w_{i+1} | w_1, w_2, w_3, ..., w_i), \\forall i \\in (1,n)$$\n",
    "\n",
    "** Why is language modeling important? **\n",
    "\n",
    "Language modeling is a core problem in NLP.\n",
    "\n",
    "Language models can either be used as a stand-alone to produce new text that matches the distribution of text the model is trained on, but can also be used at the front-end of a more sophisticated model to produce better results.\n",
    "\n",
    "Recently for example, the __[BERT](https://arxiv.org/abs/1810.04805)__ paper show-cased that pretraining a large neural network on a language modeling task can help improve state-of-the-art on many NLP tasks. \n",
    "\n",
    "How good can the generation of a Language model be?\n",
    "\n",
    "If you have not seen the latest post by OpenAI, you should read some of the samples they generated from their language model __[here](https://blog.openai.com/better-language-models/#sample1)__.\n",
    "Because of computational restrictions, we will not achieve as good text production, but the same algorithm is at the core. They just use more data and compute."
   ]
  },
  {
   "cell_type": "markdown",
   "metadata": {
    "colab_type": "text",
    "id": "AHN-jLG6ZMSy"
   },
   "source": [
    "# Library imports"
   ]
  },
  {
   "cell_type": "markdown",
   "metadata": {
    "colab_type": "text",
    "id": "NsJZoXonZMS0"
   },
   "source": [
    "Before starting, make sure you have all these libraries."
   ]
  },
  {
   "cell_type": "code",
   "execution_count": 14,
   "metadata": {
    "colab": {
     "base_uri": "https://localhost:8080/",
     "height": 51
    },
    "colab_type": "code",
    "executionInfo": {
     "elapsed": 6625,
     "status": "ok",
     "timestamp": 1554262593303,
     "user": {
      "displayName": "YINGYING CHEN",
      "photoUrl": "https://lh4.googleusercontent.com/-xr6XeKRtezQ/AAAAAAAAAAI/AAAAAAAAAKA/9Y-sRXTmS_8/s64/photo.jpg",
      "userId": "08178463729310990290"
     },
     "user_tz": 420
    },
    "id": "QIaJHaETZQ-R",
    "outputId": "dc8cc54e-262f-4694-ea98-53f3b1785794"
   },
   "outputs": [
    {
     "name": "stdout",
     "output_type": "stream",
     "text": [
      "Requirement already satisfied: segtok in /usr/local/lib/python3.6/dist-packages (1.5.7)\n",
      "Requirement already satisfied: regex in /usr/local/lib/python3.6/dist-packages (from segtok) (2018.1.10)\n"
     ]
    }
   ],
   "source": [
    "!pip install segtok"
   ]
  },
  {
   "cell_type": "code",
   "execution_count": 15,
   "metadata": {
    "colab": {
     "base_uri": "https://localhost:8080/",
     "height": 54
    },
    "colab_type": "code",
    "executionInfo": {
     "elapsed": 6614,
     "status": "ok",
     "timestamp": 1554262593306,
     "user": {
      "displayName": "YINGYING CHEN",
      "photoUrl": "https://lh4.googleusercontent.com/-xr6XeKRtezQ/AAAAAAAAAAI/AAAAAAAAAKA/9Y-sRXTmS_8/s64/photo.jpg",
      "userId": "08178463729310990290"
     },
     "user_tz": 420
    },
    "id": "TGwXB10JZX0u",
    "outputId": "082d682c-4ec4-4777-f7c0-ad684d57ad7a"
   },
   "outputs": [
    {
     "name": "stdout",
     "output_type": "stream",
     "text": [
      "Drive already mounted at /content/gdrive; to attempt to forcibly remount, call drive.mount(\"/content/gdrive\", force_remount=True).\n"
     ]
    }
   ],
   "source": [
    "# Getting access to the dataset and the Python files on Google Drive.\n",
    "# You will probably have to give permission.\n",
    "\n",
    "from google.colab import drive\n",
    "drive.mount('/content/gdrive')"
   ]
  },
  {
   "cell_type": "code",
   "execution_count": 0,
   "metadata": {
    "colab": {},
    "colab_type": "code",
    "id": "Bg0AM_nfZMS3"
   },
   "outputs": [],
   "source": [
    "from segtok import tokenizer\n",
    "from collections import Counter\n",
    "import tensorflow as tf\n",
    "import numpy as np\n",
    "import json\n",
    "import os, sys\n",
    "\n",
    "sys.path.insert(0, \"/content/gdrive/My Drive/CS182_HW03_yingying/\") # This enables us to import Python libraries in the folder.\n",
    "\n",
    "root_folder = \"/content/gdrive/My Drive/CS182_HW03_yingying/\""
   ]
  },
  {
   "cell_type": "markdown",
   "metadata": {
    "colab_type": "text",
    "heading_collapsed": true,
    "id": "DDoGeQIYZMTC"
   },
   "source": [
    "# Preprocessing"
   ]
  },
  {
   "cell_type": "markdown",
   "metadata": {
    "colab_type": "text",
    "hidden": true,
    "id": "dZpTD0T7ZMTH"
   },
   "source": [
    "**You can skip this section, however you may find these functions useful later in the project**\n",
    "\n",
    "We have provided this code so you see how the dataset was generated. You will have to come back some of these functions later in the project, so feel free to read through, to get familiar."
   ]
  },
  {
   "cell_type": "code",
   "execution_count": 0,
   "metadata": {
    "colab": {},
    "colab_type": "code",
    "hidden": true,
    "id": "-sXsfIZ3ZMTJ"
   },
   "outputs": [],
   "source": [
    "def numerize_sequence(tokenized):\n",
    "    return [w2i.get(w, unkI) for w in tokenized]\n",
    "def pad_sequence(numerized, pad_index, to_length):\n",
    "    pad = numerized[:to_length]\n",
    "    padded = pad + [pad_index] * (to_length - len(pad))\n",
    "    mask = [w != pad_index for w in padded]\n",
    "    return padded, mask"
   ]
  },
  {
   "cell_type": "code",
   "execution_count": 0,
   "metadata": {
    "colab": {},
    "colab_type": "code",
    "hidden": true,
    "id": "v9HkyZRwZMTS"
   },
   "outputs": [],
   "source": [
    "# # You do not need to run this\n",
    "# # This is to show you how the dataset was created\n",
    "# # You should read to understand, so you can preprocess text\n",
    "# # In the same way, in the evaluation section\n",
    "\n",
    "# for a in dataset:\n",
    "#     a['tokenized'] = tokenizer.word_tokenizer(a['title'].lower())"
   ]
  },
  {
   "cell_type": "code",
   "execution_count": 0,
   "metadata": {
    "colab": {},
    "colab_type": "code",
    "hidden": true,
    "id": "gg6WbjKnZMTb",
    "scrolled": true
   },
   "outputs": [],
   "source": [
    "# # You do not need to run this\n",
    "# # This is to show you how the dataset was created\n",
    "# # You should read to understand, so you can preprocess text\n",
    "# # In the same way, in the evaluation section\n",
    "\n",
    "# word_counts = Counter()\n",
    "# for a in dataset:\n",
    "#     word_counts.update(a['tokenized'])\n",
    "\n",
    "# print(word_counts.most_common(30))"
   ]
  },
  {
   "cell_type": "code",
   "execution_count": 0,
   "metadata": {
    "colab": {},
    "colab_type": "code",
    "hidden": true,
    "id": "JXV2vJrqZMTj"
   },
   "outputs": [],
   "source": [
    "# # You do not need to run this\n",
    "# # This is to show you how the dataset was created\n",
    "# # You should read to understand, so you can preprocess text\n",
    "# # In the same way, in the evaluation section\n",
    "\n",
    "# # Creating the vocab\n",
    "# vocab_size = 20000\n",
    "# special_words = [\"<START>\", \"UNK\", \"PAD\"]\n",
    "# vocabulary = special_words + [w for w, c in word_counts.most_common(vocab_size-len(special_words))]\n",
    "# w2i = {w: i for i, w in enumerate(vocabulary)}\n",
    "\n",
    "# # Numerizing and padding\n",
    "# input_length = 20\n",
    "# unkI, padI, startI = w2i['UNK'], w2i['PAD'], w2i['<START>']\n",
    "\n",
    "# for a in dataset:\n",
    "#     a['numerized'] = numerize_sequence(a['tokenized']) # Change words to IDs\n",
    "#     a['numerized'], a['mask'] = pad_sequence(a['numerized'], padI, input_length) # Append appropriate PAD tokens\n",
    "    \n",
    "# # Compute fraction of words that are UNK:\n",
    "# word_counters = Counter([w for a in dataset for w in a['input'] if w != padI])\n",
    "\n",
    "# print(\"Fraction of UNK words:\", float(word_counters[unkI]) / sum(word_counters.values()))"
   ]
  },
  {
   "cell_type": "code",
   "execution_count": 0,
   "metadata": {
    "colab": {},
    "colab_type": "code",
    "hidden": true,
    "id": "h-abAabAZMTs"
   },
   "outputs": [],
   "source": [
    "# # You do not need to run this\n",
    "# # This is to show you how the dataset was created\n",
    "# # You should read to understand, so you can preprocess text\n",
    "# # In the same way, in the evaluation section\n",
    "\n",
    "# d_released_processed   = [d for d in dataset if d['cut'] != 'testing']\n",
    "# d_unreleased_processed = [d for d in dataset if d['cut'] == 'testing']\n",
    "\n",
    "# with open(\"dataset/headline_generation_dataset_processed.json\", \"w\") as f:\n",
    "#     json.dump(d_released_processed, f)\n",
    "\n",
    "# # This file is purposefully left out of the project, we will use it to evaluate your model.\n",
    "# with open(\"dataset/headline_generation_dataset_unreleased_processed.json\", \"w\") as f:\n",
    "#     json.dump(d_unreleased_processed, f)\n",
    "    \n",
    "# with open(\"dataset/headline_generation_vocabulary.txt\", \"w\") as f:\n",
    "#     f.write(\"\\n\".join(vocabulary).encode('utf8'))"
   ]
  },
  {
   "cell_type": "markdown",
   "metadata": {
    "colab_type": "text",
    "id": "ci9YRpOhZMT4"
   },
   "source": [
    "\n",
    "# Loading the datasets"
   ]
  },
  {
   "cell_type": "markdown",
   "metadata": {
    "colab_type": "text",
    "id": "QeUUGg3OZMT8"
   },
   "source": [
    "Make sure the dataset files are all in the `dataset` folder of the project.\n",
    "\n",
    " - If you are using this notebook locally: You should run the `download_data.sh` script.\n",
    " - If you are using the Colab version of the notebook, make sure that your Google Drive is mounted, and you verify from the file explorer in Colab that the files are viewable within `/content/gdrive/CS182_HW03/dataset/`\n",
    " \n"
   ]
  },
  {
   "cell_type": "code",
   "execution_count": 22,
   "metadata": {
    "colab": {
     "base_uri": "https://localhost:8080/",
     "height": 51
    },
    "colab_type": "code",
    "executionInfo": {
     "elapsed": 8184,
     "status": "ok",
     "timestamp": 1554262594948,
     "user": {
      "displayName": "YINGYING CHEN",
      "photoUrl": "https://lh4.googleusercontent.com/-xr6XeKRtezQ/AAAAAAAAAAI/AAAAAAAAAKA/9Y-sRXTmS_8/s64/photo.jpg",
      "userId": "08178463729310990290"
     },
     "user_tz": 420
    },
    "id": "Oz2D8LLVZMT-",
    "outputId": "da96d899-c937-469b-c0ff-3e90015e1693"
   },
   "outputs": [
    {
     "name": "stdout",
     "output_type": "stream",
     "text": [
      "Number of training samples: 88568\n",
      "Number of validation samples: 946\n"
     ]
    }
   ],
   "source": [
    "# This cell loads the data for the model\n",
    "# Run this before working on loading any of the additional data\n",
    "\n",
    "with open(root_folder+\"dataset/headline_generation_dataset_processed.json\", \"r\") as f:\n",
    "    d_released = json.load(f)\n",
    "\n",
    "with open(root_folder+\"dataset/headline_generation_vocabulary.txt\", \"r\") as f:\n",
    "    vocabulary = f.read().split(\"\\n\")\n",
    "w2i = {w: i for i, w in enumerate(vocabulary)} # Word to index\n",
    "unkI, padI, start_index = w2i['UNK'], w2i['PAD'], w2i['<START>']\n",
    "\n",
    "vocab_size = len(vocabulary)\n",
    "input_length = len(d_released[0]['numerized']) # The length of the first element in the dataset, they are all of the same length\n",
    "d_train = [d for d in d_released if d['cut'] == 'training']\n",
    "d_valid = [d for d in d_released if d['cut'] == 'validation']\n",
    "\n",
    "print(\"Number of training samples:\",len(d_train))\n",
    "print(\"Number of validation samples:\",len(d_valid))"
   ]
  },
  {
   "cell_type": "markdown",
   "metadata": {
    "colab_type": "text",
    "id": "ebug4plEZMUJ"
   },
   "source": [
    "Now that we have loaded the data, let's inspect one of the elements. Each sample in our dataset is has a `numerized` vector, that contains the preprocessed headline. This vector is what we will feed in to the neural network. The field `numerized` corresponds to this list of tokens. The already loaded dictionary `vocabulary` maps token lists to the actual string. Use these elements to recover `title` key of entry 1001 in the training dataset.\n",
    "\n",
    "**TODO**: Write the numerized2text function and inspect element 1001 in the training dataset (`entry = d_train[1001]`).\n",
    "\n"
   ]
  },
  {
   "cell_type": "code",
   "execution_count": 23,
   "metadata": {
    "colab": {
     "base_uri": "https://localhost:8080/",
     "height": 51
    },
    "colab_type": "code",
    "executionInfo": {
     "elapsed": 8169,
     "status": "ok",
     "timestamp": 1554262594952,
     "user": {
      "displayName": "YINGYING CHEN",
      "photoUrl": "https://lh4.googleusercontent.com/-xr6XeKRtezQ/AAAAAAAAAAI/AAAAAAAAAKA/9Y-sRXTmS_8/s64/photo.jpg",
      "userId": "08178463729310990290"
     },
     "user_tz": 420
    },
    "id": "K1IljqwaZMUK",
    "outputId": "a0bf568e-24b3-4924-9c66-cc7dfd340153"
   },
   "outputs": [
    {
     "name": "stdout",
     "output_type": "stream",
     "text": [
      "Reversing the numerized: microsoft donates cloud computing ' worth $ 1 bn '\n",
      "From the `title` entry: Microsoft donates cloud computing 'worth $1 bn'\n"
     ]
    }
   ],
   "source": [
    "def numerized2text(numerized):\n",
    "    \"\"\" Converts an integer sequence in the vocabulary into a string corresponding to the title.\n",
    "    \n",
    "        Arguments:\n",
    "            numerized: List[int]  -- The list of vocabulary indices corresponding to the string\n",
    "        Returns:\n",
    "            title: str -- The string corresponding to the numerized input, without padding.\n",
    "    \"\"\"\n",
    "    #####\n",
    "    # BEGIN YOUR CODE HERE \n",
    "    # Recover each word from the vocabulary in the list of indices in numerized, using the vocabulary variable\n",
    "    # Hint: Use the string.join() function to reconstruct a single string\n",
    "    #####\n",
    "    \n",
    "    words = [vocabulary[i] for i in numerized if i != padI]\n",
    "    converted_string = ' '.join(words)\n",
    "    \n",
    "    #####\n",
    "    # END YOUR CODE HERE\n",
    "    #####\n",
    "    \n",
    "    return converted_string\n",
    "\n",
    "entry = d_train[1001]\n",
    "print(\"Reversing the numerized: \"+numerized2text(entry['numerized']))\n",
    "print(\"From the `title` entry: \"+ entry['title'])"
   ]
  },
  {
   "cell_type": "markdown",
   "metadata": {
    "colab_type": "text",
    "id": "W4aH0eJ1ZMUP"
   },
   "source": [
    "In language modeling, we train a model to produce the next word in the sequence given all previously generated words. This has, in practice, two steps:\n",
    "\n",
    "\n",
    "    1. Adding a special <START> token to the start of the sequence for the input. This \"shifts\" the input to the right by one. We call this the \"source\" sequence\n",
    "    2. Making the network predict the original, unshifted version (we call this the \"target\" sequence)\n",
    "\n",
    "    \n",
    "Let's take an example. Say we want to train the network on the sentence: \"The cat is great.\"\n",
    "The input to the network will be \"`<START>` The cat is great.\" The target will be: \"The cat is great\".\n",
    "    \n",
    "Therefore the first prediction is to select the word \"The\" given the `<START>` token.\n",
    "The second prediction is to produce the word \"cat\" given the two tokens \"`<START>` The\".\n",
    "At each step, the network learns to predict the next word, given all previous ones.\n",
    "    \n",
    "---"
   ]
  },
  {
   "cell_type": "markdown",
   "metadata": {
    "colab_type": "text",
    "id": "d7KsaMTYZMUT"
   },
   "source": [
    "Your next step is to write the build_batch function. Given a dataset, we select a random subset of samples, and will build the \"inputs\" and the \"targets\" of the batch, following the procedure we've described.\n",
    "\n",
    "**TODO**: write the build_batch function. We give you the structure, and you have to fill in where we have left things `None`.\n"
   ]
  },
  {
   "cell_type": "code",
   "execution_count": 0,
   "metadata": {
    "colab": {},
    "colab_type": "code",
    "id": "iLwTknHGZMUX"
   },
   "outputs": [],
   "source": [
    "def build_batch(dataset, batch_size):\n",
    "    \"\"\" Builds a batch of source and target elements from the dataset.\n",
    "    \n",
    "        Arguments:\n",
    "            dataset: List[db_element] -- A list of dataset elements\n",
    "            batch_size: int -- The size of the batch that should be created\n",
    "        Returns:\n",
    "            batch_input: List[List[int]] -- List of source sequences\n",
    "            batch_target: List[List[int]] -- List of target sequences\n",
    "            batch_target_mask: List[List[int]] -- List of target batch masks\n",
    "    \"\"\"\n",
    "    \n",
    "    #####\n",
    "    # BEGIN YOUR CODE HERE \n",
    "    #####\n",
    "    \n",
    "    \n",
    "    # We get a list of indices we will choose from the dataset.\n",
    "    # The randint function uses a uniform distribution, giving equal probably to any entry\n",
    "    # for each batch\n",
    "    indices = list(np.random.randint(0, len(dataset), size=batch_size))\n",
    "    \n",
    "    # Recover what the entries for the batch are\n",
    "    batch = [dataset[i] for i in indices]\n",
    "    \n",
    "    # Get the raw numerized for this input, each element of the dataset has a 'numerized' key\n",
    "    batch_numerized = [entry['numerized'] for entry in batch]\n",
    "\n",
    "    # Create an array of start_index that will be concatenated at position 1 for the input.\n",
    "    # Should be of shape (batch_size, 1)\n",
    "    start_tokens = np.full((batch_size, 1), start_index)\n",
    "\n",
    "    # Concatenate the start_tokens with the rest of the input\n",
    "    # The np.concatenate function should be useful\n",
    "    # The output should now be [batch_size, sequence_length+1]\n",
    "    batch_input = np.concatenate((start_tokens, batch_numerized), axis=1)\n",
    "\n",
    "    # Remove the last word from each element in the batch\n",
    "    # To restore the [batch_size, sequence_length] size\n",
    "    batch_input = batch_input[:, :-1]\n",
    "    \n",
    "    # The target should be the un-shifted numerized input\n",
    "    batch_target = batch_numerized\n",
    "\n",
    "    # The target-mask is a 0 or 1 filter to note which tokens are\n",
    "    # padding or not, to give the loss, so the model doesn't get rewarded for\n",
    "    # predicting PAD tokens.\n",
    "    batch_target_mask = np.array([a['mask'] for a in batch])\n",
    "    \n",
    "    #####\n",
    "    # END YOUR CODE HERE \n",
    "    #####\n",
    "        \n",
    "    return batch_input, batch_target, batch_target_mask"
   ]
  },
  {
   "cell_type": "markdown",
   "metadata": {
    "colab_type": "text",
    "id": "36SjiEj-ZMUe"
   },
   "source": [
    "# Creating the language model"
   ]
  },
  {
   "cell_type": "markdown",
   "metadata": {
    "colab_type": "text",
    "id": "KH7PzTdLZMUj"
   },
   "source": [
    "Now that we've written the data pipelining, we are ready to write the Neural network.\n",
    "\n",
    "\n",
    "The steps to setting up a neural network to do Language modeling are:\n",
    "- Creating the placeholders for the model, where we can feed in our inputs and targets.\n",
    "- Creating an RNN of our choice, size, and with optional parameters\n",
    "- Using the RNN on our placeholder inputs.\n",
    "- Getting the output from the RNN, and projecting it into a vocabulary sized dimension, so that we can make word predictions.\n",
    "- Setting up the loss on the outputs so that the network learns to produce the correct words.\n",
    "- Finally, choosing an optimizer, and defining a training operation: using the optimizer to minimize the loss.\n",
    "\n",
    "We provide skeleton code for the model, you can fill in the `None` section. If you are unfamiliar with Tensorflow, we provide some idea of what functions to look for, you should use the Tensorflow online documentation.\n",
    "\n",
    "**TODO**: Replace the `None` variables with their respective code elements in the LanguageModel Class\n"
   ]
  },
  {
   "cell_type": "code",
   "execution_count": 0,
   "metadata": {
    "colab": {},
    "colab_type": "code",
    "id": "TK3UTjGhZMUn"
   },
   "outputs": [],
   "source": [
    "# Using a basic RNN/LSTM for Language modeling\n",
    "class LanguageModel():\n",
    "    def __init__(self, input_length, vocab_size, rnn_size, learning_rate=1e-4):\n",
    "        \n",
    "        # Create the placeholders for the inputs:\n",
    "        # All three placeholders should be of size [None, input_length]\n",
    "        # Where None represents a variable batch_size, and input_length is the\n",
    "        # maximal length of a sequence of words, after being padded.\n",
    "        self.input_num = tf.placeholder(tf.int32, shape=[None, input_length])\n",
    "        self.targets = tf.placeholder(tf.int32, shape=[None, input_length])\n",
    "        self.targets_mask = tf.placeholder(tf.bool, shape=[None, input_length])\n",
    "\n",
    "        # Create an embedding variable of shape [vocab_size, rnn_size]\n",
    "        # That will map each word in our vocab into a vector of rnn_size size.\n",
    "        embedding = tf.get_variable('word_embedding', [vocab_size, rnn_size])\n",
    "        \n",
    "        # Use the tensorflow embedding_lookup function\n",
    "        # To embed the input_num, using the embedding variable we've created\n",
    "        input_emb = tf.nn.embedding_lookup(embedding, self.input_num)\n",
    "\n",
    "        # Create a an RNN or LSTM cell of rnn_size size.\n",
    "        # Look into the tf.nn.rnn_cell documentation\n",
    "        # You can optionally use Tensorflow Add-ons such as the MultiRNNCell, or the DropoutWrapper\n",
    "        lm_cell = tf.nn.rnn_cell.LSTMCell(rnn_size)\n",
    "        lm_cell = tf.nn.rnn_cell.DropoutWrapper(lm_cell, input_keep_prob=0.5)\n",
    "        \n",
    "        # Use the dynamic_rnn function of Tensorflow to run the embedded inputs\n",
    "        # using the lm_cell you've created, and obtain the outputs of the RNN cell.\n",
    "        # You have created a cell, which represents a single block (column) of the RNN.\n",
    "        # dynamic_rnn will \"copy\" the cell for each element in your sequence, runs the input you provide through the cell,\n",
    "        # and returns the outputs and the states of the cell.\n",
    "        outputs, states = tf.nn.dynamic_rnn(lm_cell, input_emb, dtype=tf.float32)\n",
    "\n",
    "        # Use a dense layer to project the outputs of the RNN cell into the size of the\n",
    "        # vocabulary (vocab_size).\n",
    "        # output_logits should be of shape [None,input_length,vocab_ vsize]\n",
    "        # You can look at the tf.layers.dense function\n",
    "        self.output_logits = tf.layers.dense(outputs, vocab_size)\n",
    "\n",
    "        # Setup the loss: using the sparse_softmax_cross_entropy.\n",
    "        # The logits are the output_logits we've computed.\n",
    "        # The targets are the gold labels we are trying to match\n",
    "        # Don't forget to use the targets_mask we have, so your loss is not off,\n",
    "        # And your model doesn't get rewarded for predicting PAD tokens\n",
    "        # You might have to cast the masks into float32. Look at the tf.cast function.\n",
    "        self.loss = tf.losses.sparse_softmax_cross_entropy(self.targets, self.output_logits, weights=tf.cast(self.targets_mask, dtype=np.float32))\n",
    "\n",
    "        # Setup an optimizer (SGD, RMSProp, Adam), you can find a list under tf.train.*\n",
    "        # And provide it with a start learning rate.\n",
    "        optimizer = tf.train.AdamOptimizer(learning_rate=learning_rate)\n",
    "\n",
    "        # We create a train_op that requires the optimizer we've created to minimize the\n",
    "        # loss we've defined.\n",
    "        # look for the optimizer.minimize function, define what should be miniminzed.\n",
    "        # You can provide it with the provide an optional global_step parameter as well that keeps of how many\n",
    "        # Optimizations steps have been run.\n",
    "        \n",
    "        self.global_step = tf.train.get_or_create_global_step()\n",
    "        self.train_op = optimizer.minimize(self.loss, global_step=self.global_step)\n",
    "        self.saver = tf.train.Saver()"
   ]
  },
  {
   "cell_type": "markdown",
   "metadata": {
    "colab_type": "text",
    "id": "dgyLNFe3ZMUs"
   },
   "source": [
    "Once you have created the Model class, we should instantiate the model. The line tf.reset_default_graph() resets the graph for the Jupyter notebook, so multiple models aren't floating around. If you have trouble with redefinition of variables, it may be worth re-running the cell below. "
   ]
  },
  {
   "cell_type": "code",
   "execution_count": 26,
   "metadata": {
    "colab": {
     "base_uri": "https://localhost:8080/",
     "height": 394
    },
    "colab_type": "code",
    "executionInfo": {
     "elapsed": 9241,
     "status": "ok",
     "timestamp": 1554262596081,
     "user": {
      "displayName": "YINGYING CHEN",
      "photoUrl": "https://lh4.googleusercontent.com/-xr6XeKRtezQ/AAAAAAAAAAI/AAAAAAAAAKA/9Y-sRXTmS_8/s64/photo.jpg",
      "userId": "08178463729310990290"
     },
     "user_tz": 420
    },
    "id": "2jH3sPmhZMUu",
    "outputId": "a74ca34e-2cbc-4b2b-993c-20f45173dd00"
   },
   "outputs": [
    {
     "name": "stdout",
     "output_type": "stream",
     "text": [
      "WARNING:tensorflow:From /usr/local/lib/python3.6/dist-packages/tensorflow/python/framework/op_def_library.py:263: colocate_with (from tensorflow.python.framework.ops) is deprecated and will be removed in a future version.\n",
      "Instructions for updating:\n",
      "Colocations handled automatically by placer.\n",
      "WARNING:tensorflow:From <ipython-input-25-613407f7fed4>:23: LSTMCell.__init__ (from tensorflow.python.ops.rnn_cell_impl) is deprecated and will be removed in a future version.\n",
      "Instructions for updating:\n",
      "This class is equivalent as tf.keras.layers.LSTMCell, and will be replaced by that in Tensorflow 2.0.\n",
      "WARNING:tensorflow:From <ipython-input-25-613407f7fed4>:31: dynamic_rnn (from tensorflow.python.ops.rnn) is deprecated and will be removed in a future version.\n",
      "Instructions for updating:\n",
      "Please use `keras.layers.RNN(cell)`, which is equivalent to this API\n",
      "WARNING:tensorflow:From /usr/local/lib/python3.6/dist-packages/tensorflow/python/ops/rnn_cell_impl.py:1259: calling dropout (from tensorflow.python.ops.nn_ops) with keep_prob is deprecated and will be removed in a future version.\n",
      "Instructions for updating:\n",
      "Please use `rate` instead of `keep_prob`. Rate should be set to `rate = 1 - keep_prob`.\n",
      "WARNING:tensorflow:From <ipython-input-25-613407f7fed4>:37: dense (from tensorflow.python.layers.core) is deprecated and will be removed in a future version.\n",
      "Instructions for updating:\n",
      "Use keras.layers.dense instead.\n",
      "WARNING:tensorflow:From /usr/local/lib/python3.6/dist-packages/tensorflow/python/ops/losses/losses_impl.py:209: to_float (from tensorflow.python.ops.math_ops) is deprecated and will be removed in a future version.\n",
      "Instructions for updating:\n",
      "Use tf.cast instead.\n",
      "WARNING:tensorflow:From /usr/local/lib/python3.6/dist-packages/tensorflow/python/ops/array_grad.py:425: to_int32 (from tensorflow.python.ops.math_ops) is deprecated and will be removed in a future version.\n",
      "Instructions for updating:\n",
      "Use tf.cast instead.\n"
     ]
    }
   ],
   "source": [
    "# We can create our model,\n",
    "# with parameters of our choosing.\n",
    "\n",
    "tf.reset_default_graph() # This is so that when you debug, you reset the graph each time you run this, in essence, cleaning the board\n",
    "model = LanguageModel(input_length=input_length, vocab_size=vocab_size, rnn_size=256, learning_rate=0.001)"
   ]
  },
  {
   "cell_type": "markdown",
   "metadata": {
    "colab_type": "text",
    "id": "krUmQsMvZMUz"
   },
   "source": [
    "# Training the model"
   ]
  },
  {
   "cell_type": "markdown",
   "metadata": {
    "colab_type": "text",
    "id": "C_4Zyh6SZMU6"
   },
   "source": [
    "Your objective is to train the Language on the dataset you are provided to reach a **loss <= 5.50**\n",
    "\n",
    "**TODO**: Train your model so that it achieves a loss of <= 5.5. \n",
    "\n",
    "**Careful**: we will be testing this loss on an unreleased test set, so make sure to evaluate properly on a validation set and not overfit. You must save the model you want us to test under: models/final_language_model (the .index, .meta and .data files)\n",
    "\n",
    "**Advice**:\n",
    "- It should be possible to attain loss <= 5.50 with a 1-layer LSTM of size 256 or less.\n",
    "- You should not need more than 10 epochs to attain the threshold. More passes over the data can however give you a better model.\n",
    "- You can however try using:\n",
    "    - LSTM dropout (Tensorflow has a layer for that)\n",
    "    - Multi-layer RNN cell (Tensorflow has a layer for that)\n",
    "    - Change your optimizers, tune your learning_rate, use a learning rate schedule.\n",
    "    \n",
    "**Extra credit**:\n",
    "\n",
    "Get the loss below **loss <= 5.00** and get 5 points of extra-credit on this project. Get creative,\n",
    "but remember, what you do should work on our held-out test set to get the points."
   ]
  },
  {
   "cell_type": "code",
   "execution_count": 27,
   "metadata": {
    "colab": {
     "base_uri": "https://localhost:8080/",
     "height": 1975
    },
    "colab_type": "code",
    "executionInfo": {
     "elapsed": 1098828,
     "status": "ok",
     "timestamp": 1554263685683,
     "user": {
      "displayName": "YINGYING CHEN",
      "photoUrl": "https://lh4.googleusercontent.com/-xr6XeKRtezQ/AAAAAAAAAAI/AAAAAAAAAKA/9Y-sRXTmS_8/s64/photo.jpg",
      "userId": "08178463729310990290"
     },
     "user_tz": 420
    },
    "id": "q1g2UvQwZMU8",
    "outputId": "f91ac36f-7f92-418f-e6bc-7333766fdd0e"
   },
   "outputs": [
    {
     "name": "stdout",
     "output_type": "stream",
     "text": [
      "epoch:  0\n",
      "Iteration: 0, Training Loss: 9.210281372070312, Validation Loss: [9.209275]\n",
      "Iteration: 300, Training Loss: 6.863461971282959, Validation Loss: [6.8758206]\n",
      "Iteration: 600, Training Loss: 6.569610118865967, Validation Loss: [6.637562]\n",
      "Iteration: 900, Training Loss: 6.394620418548584, Validation Loss: [6.4826956]\n",
      "Iteration: 1200, Training Loss: 6.038716793060303, Validation Loss: [6.364156]\n",
      "Iteration: 1500, Training Loss: 6.082334995269775, Validation Loss: [6.2783995]\n",
      "Iteration: 1800, Training Loss: 6.135596752166748, Validation Loss: [6.1928453]\n",
      "Iteration: 2100, Training Loss: 6.009885311126709, Validation Loss: [6.1160192]\n",
      "Iteration: 2400, Training Loss: 5.930249214172363, Validation Loss: [6.0312896]\n",
      "Iteration: 2700, Training Loss: 5.794939994812012, Validation Loss: [5.9528704]\n",
      "epoch:  1\n",
      "Iteration: 0, Training Loss: 6.072885036468506, Validation Loss: [5.9389477]\n",
      "Iteration: 300, Training Loss: 5.424399375915527, Validation Loss: [5.8714848]\n",
      "Iteration: 600, Training Loss: 5.712243556976318, Validation Loss: [5.817217]\n",
      "Iteration: 900, Training Loss: 5.489756107330322, Validation Loss: [5.7503304]\n",
      "Iteration: 1200, Training Loss: 5.707327842712402, Validation Loss: [5.7099495]\n",
      "Iteration: 1500, Training Loss: 5.692363262176514, Validation Loss: [5.6800776]\n",
      "Iteration: 1800, Training Loss: 5.280421733856201, Validation Loss: [5.6447473]\n",
      "Iteration: 2100, Training Loss: 5.435542106628418, Validation Loss: [5.613509]\n",
      "Iteration: 2400, Training Loss: 5.301910400390625, Validation Loss: [5.583158]\n",
      "Iteration: 2700, Training Loss: 5.146808624267578, Validation Loss: [5.5653763]\n",
      "epoch:  2\n",
      "Iteration: 0, Training Loss: 5.166585445404053, Validation Loss: [5.557371]\n",
      "Iteration: 300, Training Loss: 5.174681663513184, Validation Loss: [5.5310044]\n",
      "Iteration: 600, Training Loss: 5.087955951690674, Validation Loss: [5.5161443]\n",
      "Iteration: 900, Training Loss: 5.153784275054932, Validation Loss: [5.5042253]\n",
      "Iteration: 1200, Training Loss: 5.102344036102295, Validation Loss: [5.4951053]\n",
      "Iteration: 1500, Training Loss: 5.05454158782959, Validation Loss: [5.4725237]\n",
      "Iteration: 1800, Training Loss: 4.90226936340332, Validation Loss: [5.4624677]\n",
      "Iteration: 2100, Training Loss: 5.092554092407227, Validation Loss: [5.4497886]\n",
      "Iteration: 2400, Training Loss: 5.189488410949707, Validation Loss: [5.437394]\n",
      "Iteration: 2700, Training Loss: 5.424768447875977, Validation Loss: [5.4197497]\n",
      "epoch:  3\n",
      "Iteration: 0, Training Loss: 5.077919006347656, Validation Loss: [5.419425]\n",
      "Iteration: 300, Training Loss: 5.142852783203125, Validation Loss: [5.408669]\n",
      "Iteration: 600, Training Loss: 5.282296657562256, Validation Loss: [5.406398]\n",
      "Iteration: 900, Training Loss: 4.956787109375, Validation Loss: [5.3887997]\n",
      "Iteration: 1200, Training Loss: 4.910480976104736, Validation Loss: [5.388104]\n",
      "Iteration: 1500, Training Loss: 4.895987033843994, Validation Loss: [5.3859687]\n",
      "Iteration: 1800, Training Loss: 4.6884379386901855, Validation Loss: [5.3888583]\n",
      "Iteration: 2100, Training Loss: 4.924674034118652, Validation Loss: [5.3788505]\n",
      "Iteration: 2400, Training Loss: 4.706453323364258, Validation Loss: [5.3826323]\n",
      "Iteration: 2700, Training Loss: 5.068010330200195, Validation Loss: [5.3725233]\n",
      "epoch:  4\n",
      "Iteration: 0, Training Loss: 4.765510082244873, Validation Loss: [5.3820405]\n",
      "Iteration: 300, Training Loss: 4.732758522033691, Validation Loss: [5.362992]\n",
      "Iteration: 600, Training Loss: 4.747835636138916, Validation Loss: [5.3699965]\n",
      "Iteration: 900, Training Loss: 4.673989772796631, Validation Loss: [5.3606405]\n",
      "Iteration: 1200, Training Loss: 4.836048603057861, Validation Loss: [5.3664713]\n",
      "Iteration: 1500, Training Loss: 4.83867073059082, Validation Loss: [5.3642755]\n",
      "Iteration: 1800, Training Loss: 4.38601016998291, Validation Loss: [5.3432717]\n",
      "Iteration: 2100, Training Loss: 4.510076522827148, Validation Loss: [5.3588886]\n",
      "Iteration: 2400, Training Loss: 4.874427318572998, Validation Loss: [5.3498163]\n",
      "Iteration: 2700, Training Loss: 4.368129730224609, Validation Loss: [5.3644223]\n",
      "epoch:  5\n",
      "Iteration: 0, Training Loss: 4.496757507324219, Validation Loss: [5.358433]\n",
      "Iteration: 300, Training Loss: 4.67965030670166, Validation Loss: [5.35415]\n",
      "Iteration: 600, Training Loss: 4.856415748596191, Validation Loss: [5.3534207]\n",
      "Iteration: 900, Training Loss: 4.72942590713501, Validation Loss: [5.341458]\n",
      "Iteration: 1200, Training Loss: 4.304582595825195, Validation Loss: [5.349213]\n",
      "Iteration: 1500, Training Loss: 4.6201491355896, Validation Loss: [5.3612976]\n",
      "Iteration: 1800, Training Loss: 4.343840599060059, Validation Loss: [5.3544316]\n",
      "Iteration: 2100, Training Loss: 4.586990833282471, Validation Loss: [5.360444]\n",
      "Iteration: 2400, Training Loss: 4.427487850189209, Validation Loss: [5.3481636]\n",
      "Iteration: 2700, Training Loss: 4.401270389556885, Validation Loss: [5.353498]\n",
      "epoch:  6\n",
      "Iteration: 0, Training Loss: 4.720345497131348, Validation Loss: [5.3481603]\n",
      "Iteration: 300, Training Loss: 4.572780132293701, Validation Loss: [5.354779]\n",
      "Iteration: 600, Training Loss: 4.701742649078369, Validation Loss: [5.3537726]\n",
      "Iteration: 900, Training Loss: 4.719314098358154, Validation Loss: [5.349024]\n",
      "Iteration: 1200, Training Loss: 4.265811920166016, Validation Loss: [5.3656707]\n",
      "Iteration: 1500, Training Loss: 4.605507850646973, Validation Loss: [5.3506217]\n",
      "Iteration: 1800, Training Loss: 4.228161334991455, Validation Loss: [5.3518605]\n",
      "Iteration: 2100, Training Loss: 4.406741619110107, Validation Loss: [5.3443017]\n",
      "Iteration: 2400, Training Loss: 4.446371555328369, Validation Loss: [5.355911]\n",
      "Iteration: 2700, Training Loss: 4.436008453369141, Validation Loss: [5.35376]\n",
      "epoch:  7\n",
      "Iteration: 0, Training Loss: 4.870423793792725, Validation Loss: [5.3450794]\n",
      "Iteration: 300, Training Loss: 4.558781147003174, Validation Loss: [5.3541684]\n",
      "Iteration: 600, Training Loss: 4.302545070648193, Validation Loss: [5.3758345]\n",
      "Iteration: 900, Training Loss: 4.155833721160889, Validation Loss: [5.37168]\n",
      "Iteration: 1200, Training Loss: 4.586234092712402, Validation Loss: [5.368738]\n",
      "Iteration: 1500, Training Loss: 4.431529998779297, Validation Loss: [5.371286]\n",
      "Iteration: 1800, Training Loss: 4.598633766174316, Validation Loss: [5.374461]\n",
      "Iteration: 2100, Training Loss: 4.387938022613525, Validation Loss: [5.3739047]\n",
      "Iteration: 2400, Training Loss: 4.364253044128418, Validation Loss: [5.3929057]\n",
      "Iteration: 2700, Training Loss: 4.498367786407471, Validation Loss: [5.3915553]\n",
      "epoch:  8\n",
      "Iteration: 0, Training Loss: 3.9892008304595947, Validation Loss: [5.3848867]\n",
      "Iteration: 300, Training Loss: 4.336477279663086, Validation Loss: [5.388298]\n",
      "Iteration: 600, Training Loss: 4.302451133728027, Validation Loss: [5.3780403]\n",
      "Iteration: 900, Training Loss: 4.100696086883545, Validation Loss: [5.395048]\n",
      "Iteration: 1200, Training Loss: 4.1064300537109375, Validation Loss: [5.3932796]\n",
      "Iteration: 1500, Training Loss: 4.249016761779785, Validation Loss: [5.390379]\n",
      "Iteration: 1800, Training Loss: 4.173871040344238, Validation Loss: [5.3945394]\n",
      "Iteration: 2100, Training Loss: 4.274521827697754, Validation Loss: [5.387616]\n",
      "Iteration: 2400, Training Loss: 4.175442695617676, Validation Loss: [5.3826523]\n",
      "Iteration: 2700, Training Loss: 4.384960174560547, Validation Loss: [5.381727]\n",
      "epoch:  9\n",
      "Iteration: 0, Training Loss: 4.451968669891357, Validation Loss: [5.387067]\n",
      "Iteration: 300, Training Loss: 4.213305473327637, Validation Loss: [5.3889136]\n",
      "Iteration: 600, Training Loss: 4.239599704742432, Validation Loss: [5.3859363]\n",
      "Iteration: 900, Training Loss: 4.426967620849609, Validation Loss: [5.4037547]\n",
      "Iteration: 1200, Training Loss: 4.19492769241333, Validation Loss: [5.4070144]\n",
      "Iteration: 1500, Training Loss: 4.325690269470215, Validation Loss: [5.3948245]\n",
      "Iteration: 1800, Training Loss: 4.292558193206787, Validation Loss: [5.3952556]\n",
      "Iteration: 2100, Training Loss: 4.251657485961914, Validation Loss: [5.409441]\n",
      "Iteration: 2400, Training Loss: 4.255568504333496, Validation Loss: [5.4210434]\n",
      "Iteration: 2700, Training Loss: 4.408780574798584, Validation Loss: [5.414388]\n",
      "WARNING:tensorflow:From /usr/local/lib/python3.6/dist-packages/tensorflow/python/training/saver.py:1266: checkpoint_exists (from tensorflow.python.training.checkpoint_management) is deprecated and will be removed in a future version.\n",
      "Instructions for updating:\n",
      "Use standard file APIs to check for files with this prefix.\n",
      "INFO:tensorflow:Restoring parameters from /content/gdrive/My Drive/CS182_HW03_yingying/models/final_language_model\n"
     ]
    }
   ],
   "source": [
    "# Skeleton code\n",
    "# You have to write your own training process to obtain a\n",
    "# Good performing model on the validation set, and save it.\n",
    "\n",
    "experiment = root_folder+\"models/final_language_model\"\n",
    "\n",
    "\n",
    "with tf.Session() as sess:\n",
    "    # Here is how you initialize weights of the model according to their\n",
    "    # Initialization parameters.\n",
    "    sess.run(tf.global_variables_initializer())\n",
    "    \n",
    "    # Here is how you obtain a batch:\n",
    "    valid_size = len(d_valid)\n",
    "    valid_input, valid_target, valid_target_mask = build_batch(d_valid, valid_size)\n",
    "    \n",
    "    epoch = 10\n",
    "    batch_size = 32\n",
    "    batch_num = len(d_train)//batch_size\n",
    "    \n",
    "    for e in range(epoch):\n",
    "      print('epoch: ', e)\n",
    "      \n",
    "      for b in range(batch_num):\n",
    "    \n",
    "        batch_input, batch_target, batch_target_mask = build_batch(d_train, batch_size)\n",
    "        # Map the values to each tensor in a `feed_dict`\n",
    "        feed = {model.input_num: batch_input, model.targets: batch_target, model.targets_mask: batch_target_mask}\n",
    "\n",
    "        # Obtain a single value of the loss for that batch.\n",
    "        # !IMPORTANT! Don't forget to include the train_op to when using a batch from the training dataset\n",
    "        # (d_train)\n",
    "        # !MORE IMPORTANT! Don't use the train_op if you evaluate the loss on the validation set,\n",
    "        # Otherwise, your network will overfit on your validation dataset.\n",
    "\n",
    "        step, train_loss, _ = sess.run([model.global_step, model.loss, model.train_op], feed_dict=feed)\n",
    "    \n",
    "        if b % 300 == 0:\n",
    "          valid_feed = {model.input_num: valid_input, model.targets: valid_target, model.targets_mask: valid_target_mask}\n",
    "          valid_loss = sess.run([model.loss], feed_dict=valid_feed)\n",
    "          print(\"Iteration: {}, Training Loss: {}, Validation Loss: {}\".format(b, train_loss, valid_loss))\n",
    "              \n",
    "    # Here is how you save the model weights\n",
    "    model.saver.save(sess, experiment)\n",
    "    \n",
    "    # Here is how you restore the weights previously saved\n",
    "    model.saver.restore(sess, experiment)"
   ]
  },
  {
   "cell_type": "markdown",
   "metadata": {
    "colab_type": "text",
    "id": "EAWTBnVDZMVG"
   },
   "source": [
    "# Using the language model"
   ]
  },
  {
   "cell_type": "markdown",
   "metadata": {
    "colab_type": "text",
    "id": "F7OBbXneZMVJ"
   },
   "source": [
    "Congratulations, you have now trained a language model! We can now use it to evaluate likely news headlines, as well as generate our very own headlines.\n",
    "\n",
    "**TODO**: Complete the three parts below, using the model you have trained."
   ]
  },
  {
   "cell_type": "markdown",
   "metadata": {
    "colab_type": "text",
    "id": "deUhra_CZMVM"
   },
   "source": [
    "## (1) Evaluation loss\n",
    "\n",
    "To evaluate the language model, we evaluate its loss (ability to predict) on unseen data that is reserved for evaluation.\n",
    "Your first evaluation is to load the model you trained, and obtain a test loss."
   ]
  },
  {
   "cell_type": "code",
   "execution_count": 0,
   "metadata": {
    "colab": {},
    "colab_type": "code",
    "id": "Fti_lkdsZMVO"
   },
   "outputs": [],
   "source": [
    "# Your best performing model should go here.\n",
    "model_file = root_folder+\"models/final_language_model\""
   ]
  },
  {
   "cell_type": "code",
   "execution_count": 33,
   "metadata": {
    "colab": {
     "base_uri": "https://localhost:8080/",
     "height": 51
    },
    "colab_type": "code",
    "executionInfo": {
     "elapsed": 1121,
     "status": "ok",
     "timestamp": 1554268121710,
     "user": {
      "displayName": "YINGYING CHEN",
      "photoUrl": "https://lh4.googleusercontent.com/-xr6XeKRtezQ/AAAAAAAAAAI/AAAAAAAAAKA/9Y-sRXTmS_8/s64/photo.jpg",
      "userId": "08178463729310990290"
     },
     "user_tz": 420
    },
    "id": "CDPSMuPMZMVT",
    "outputId": "64b29676-9659-470f-8619-f75ad477bc2d"
   },
   "outputs": [
    {
     "name": "stdout",
     "output_type": "stream",
     "text": [
      "INFO:tensorflow:Restoring parameters from /content/gdrive/My Drive/CS182_HW03_yingying/models/final_language_model\n",
      "Evaluation set loss: [5.4096303]\n"
     ]
    }
   ],
   "source": [
    "# We will evaluate your model in the model_file above\n",
    "# In a very similar way as the code below.\n",
    "# Make sure your validation loss is befow the threshold we specified\n",
    "# and that you didn't train using the validation set, as you would\n",
    "# get penalized.\n",
    "\n",
    "with tf.Session() as sess:\n",
    "    model.saver.restore(sess, model_file)\n",
    "    eval_input, eval_target, eval_target_mask = build_batch(d_valid, 500)\n",
    "    feed = {model.input_num: eval_input, model.targets: eval_target, model.targets_mask: eval_target_mask}\n",
    "    eval_loss = sess.run([model.loss], feed_dict=feed)\n",
    "    print(\"Evaluation set loss:\", eval_loss)"
   ]
  },
  {
   "cell_type": "markdown",
   "metadata": {
    "colab_type": "text",
    "id": "EvyQCw6dZMVo"
   },
   "source": [
    "## (2) Evaluation of likelihood of data\n",
    "\n",
    "One use of a language model is to see what data is more likely to have originated from the training data. Because we have trained our model on news headlines, we can see which of these headlines is more likely:\n",
    "\n",
    "``Apple to release another iPhone in September``\n",
    "\n",
    "\n",
    " ``Apple and Samsung resolve all lawsuits amicably``\n",
    " \n",
    "**TODO**: Use the model to obtain the loss the neural network assigns to each sentence.\n",
    "Because the neural network assigns probability to the words appearing in a sequence, this loss can be used as a proxy to measure how likely the sentence is to have occurred in the dataset.\n",
    "Once you have the loss for each headline, write down which sentence was judged to be more likely, and explain why/if you think this is coherent.\n",
    "\n",
    "**Your answer:**\n"
   ]
  },
  {
   "cell_type": "code",
   "execution_count": 34,
   "metadata": {
    "colab": {
     "base_uri": "https://localhost:8080/",
     "height": 136
    },
    "colab_type": "code",
    "executionInfo": {
     "elapsed": 919,
     "status": "ok",
     "timestamp": 1554268126812,
     "user": {
      "displayName": "YINGYING CHEN",
      "photoUrl": "https://lh4.googleusercontent.com/-xr6XeKRtezQ/AAAAAAAAAAI/AAAAAAAAAKA/9Y-sRXTmS_8/s64/photo.jpg",
      "userId": "08178463729310990290"
     },
     "user_tz": 420
    },
    "id": "EUDz8NaxZMWE",
    "outputId": "2696e3d0-a6f7-452d-c28c-50e4f58bc098"
   },
   "outputs": [
    {
     "name": "stdout",
     "output_type": "stream",
     "text": [
      "INFO:tensorflow:Restoring parameters from /content/gdrive/My Drive/CS182_HW03_yingying/models/final_language_model\n",
      "----------------------------------------\n",
      "Headline: apple to release new iphone in july\n",
      "Loss of the headline: [3.0952742]\n",
      "----------------------------------------\n",
      "Headline: apple and samsung resolve all lawsuits\n",
      "Loss of the headline: [5.2445216]\n"
     ]
    }
   ],
   "source": [
    "headline1 = \"Apple to release new iPhone in July\"\n",
    "headline2 = \"Apple and Samsung resolve all lawsuits\"\n",
    "\n",
    "headlines = [headline1, headline2]\n",
    "\n",
    "with tf.Session() as sess:\n",
    "    model.saver.restore(sess, model_file)\n",
    "\n",
    "    for headline in headlines:\n",
    "        headline = headline.lower() # Our LSTM is trained on lower-cased headlines\n",
    "    \n",
    "        # From the code in the Preprocessing section of the notebook\n",
    "        # Find out how to tokenize the headline\n",
    "        tokenized = tokenizer.word_tokenizer(headline)\n",
    "        \n",
    "        # Find out how to numerize the tokenized headline\n",
    "        numerized = numerize_sequence(tokenized)\n",
    "\n",
    "        # Learn how to pad and obtain the mask of the sequence.\n",
    "        padded, mask = pad_sequence(numerized, padI, 20)\n",
    "        \n",
    "        # Obtain the loss of the sequence, and pring it\n",
    "        padded_input = [0] + padded[:-1]\n",
    "        feed = {model.input_num: [padded_input], model.targets: [padded], model.targets_mask: [mask]}\n",
    "        loss = sess.run([model.loss], feed_dict=feed)\n",
    "        print(\"----------------------------------------\")\n",
    "        print(\"Headline:\",headline)\n",
    "        print(\"Loss of the headline:\", loss)\n",
    "\n",
    "# Important check: one headline should be more likely (and have lower loss)\n",
    "# Than the other headline. You should know which headline should have lower loss."
   ]
  },
  {
   "cell_type": "markdown",
   "metadata": {
    "colab_type": "text",
    "id": "rDV6qwMhZMWQ"
   },
   "source": [
    "## (3) Generation of headlines\n",
    "\n",
    "We can use our language model to generate text according to the distribution of our training data.\n",
    "The way generation works is the following:\n",
    "\n",
    "We seed the model with a beginning of sequence, and obtain the distribution for the next word.\n",
    "We select the most likely word (argmax) and add it to our sequence of words.\n",
    "Now our sequence is one word longer, and we can feed it in again as an input, for the network to produce the next sentence.\n",
    "We do this a fixed number of times (up to 20 words), and obtain automatically generated headlines!\n"
   ]
  },
  {
   "cell_type": "markdown",
   "metadata": {
    "colab_type": "text",
    "id": "pykMtHd-ZMWR"
   },
   "source": [
    "We have provided a few headline starters that should produce interesting generated headlines.\n",
    "\n",
    "**TODO:** Get creative and find at least 2 more headline_starters that produce interesting headlines."
   ]
  },
  {
   "cell_type": "code",
   "execution_count": 35,
   "metadata": {
    "colab": {
     "base_uri": "https://localhost:8080/",
     "height": 238
    },
    "colab_type": "code",
    "executionInfo": {
     "elapsed": 1519,
     "status": "ok",
     "timestamp": 1554268133798,
     "user": {
      "displayName": "YINGYING CHEN",
      "photoUrl": "https://lh4.googleusercontent.com/-xr6XeKRtezQ/AAAAAAAAAAI/AAAAAAAAAKA/9Y-sRXTmS_8/s64/photo.jpg",
      "userId": "08178463729310990290"
     },
     "user_tz": 420
    },
    "id": "gopFoDCTZMWT",
    "outputId": "42740b99-7200-49ba-cca9-9da3489097ce"
   },
   "outputs": [
    {
     "name": "stdout",
     "output_type": "stream",
     "text": [
      "INFO:tensorflow:Restoring parameters from /content/gdrive/My Drive/CS182_HW03_yingying/models/final_language_model\n",
      "===================\n",
      "Generating headline starting with: apple has released\n",
      "<START> apple has released a new iphone update with a new macbook pro and macbook pro - but it's a\n",
      "===================\n",
      "Generating headline starting with: google has released\n",
      "<START> google has released a new version of its android operating system - but it looks like a new way\n",
      "===================\n",
      "Generating headline starting with: amazon\n",
      "<START> amazon is making a new new version of its new headquarters in the cloud wars with a new feature\n",
      "===================\n",
      "Generating headline starting with: tesla to\n",
      "<START> tesla to offer apple iphone 4s in india for september 12 weeks early by u.s . ) - sources\n"
     ]
    }
   ],
   "source": [
    "with tf.Session() as sess:\n",
    "    model.saver.restore(sess, model_file)\n",
    "\n",
    "    # Here are some headline starters.\n",
    "    # They're all about tech companies, because\n",
    "    # That is what is in our dataset\n",
    "    headline_starters = [\"apple has released\", \"google has released\", \"amazon\", \"tesla to\"]\n",
    "    \n",
    "    for headline_starter in headline_starters:\n",
    "        print(\"===================\")\n",
    "        print(\"Generating headline starting with: \"+headline_starter)\n",
    "\n",
    "        # Tokenize and numerize the headline. Put the numerized headline\n",
    "        # beginning in `current_build`\n",
    "        tokenized = tokenizer.word_tokenizer(headline_starter.lower())\n",
    "        current_build = [start_index] + numerize_sequence(tokenized)\n",
    "\n",
    "        while len(current_build) < input_length:\n",
    "            # Pad the current_build into a input_length vector.\n",
    "            # We do this so that it can be processed by our LanguageModel class\n",
    "            current_padded = current_build[:input_length] + [padI] * (input_length - len(current_build))\n",
    "            current_padded = np.array([current_padded])\n",
    "\n",
    "            # Obtain the logits for the current padded sequence\n",
    "            # This involves obtaining the output_logits from our model,\n",
    "            # and not the loss like we have done so far\n",
    "            feed = {model.input_num: current_padded}\n",
    "            logits = sess.run([model.output_logits], feed_dict=feed)\n",
    "\n",
    "            # Obtain the row of logits that interest us, the logits for the last non-pad\n",
    "            # inputs\n",
    "            last_logits = logits[0][0][len(current_build) - 1][5:]\n",
    "            \n",
    "            # Find the highest scoring word in the last_logits\n",
    "            # array. The np.argmax function should be useful.\n",
    "            # Append this word to our current build\n",
    "            current_build.append(np.argmax(last_logits) + 5)\n",
    "        \n",
    "        # Go from the current_build of word_indices\n",
    "        # To the headline (string) produced. This should involve\n",
    "        # the vocabulary, and a string merger.\n",
    "        produced_sentence = numerized2text(current_build)\n",
    "        print(produced_sentence)"
   ]
  },
  {
   "cell_type": "markdown",
   "metadata": {
    "colab_type": "text",
    "id": "uh64LayIZMWd"
   },
   "source": [
    "## All done\n",
    "\n",
    "You are done with the first part of the HW.\n",
    "\n",
    "Next notebook deals with Summarization of text!\n"
   ]
  }
 ],
 "metadata": {
  "accelerator": "GPU",
  "colab": {
   "collapsed_sections": [
    "tI5M9iQLZMSh"
   ],
   "name": "1 Language Modeling.ipynb",
   "provenance": [],
   "version": "0.3.2"
  },
  "kernelspec": {
   "display_name": "Python 3",
   "language": "python",
   "name": "python3"
  },
  "language_info": {
   "codemirror_mode": {
    "name": "ipython",
    "version": 3
   },
   "file_extension": ".py",
   "mimetype": "text/x-python",
   "name": "python",
   "nbconvert_exporter": "python",
   "pygments_lexer": "ipython3",
   "version": "3.7.2"
  }
 },
 "nbformat": 4,
 "nbformat_minor": 1
}
